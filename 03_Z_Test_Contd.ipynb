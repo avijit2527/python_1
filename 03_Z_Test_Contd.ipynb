{
  "nbformat": 4,
  "nbformat_minor": 0,
  "metadata": {
    "colab": {
      "provenance": []
    },
    "kernelspec": {
      "name": "python3",
      "display_name": "Python 3"
    },
    "language_info": {
      "name": "python"
    }
  },
  "cells": [
    {
      "cell_type": "code",
      "execution_count": 1,
      "metadata": {
        "colab": {
          "base_uri": "https://localhost:8080/"
        },
        "id": "f7u_Yu608h39",
        "outputId": "9c0f3a58-d71f-4900-db61-2d515f1fd6a5"
      },
      "outputs": [
        {
          "output_type": "stream",
          "name": "stdout",
          "text": [
            "M1_data: [6.0, 6.0, 11.0, 7.0, 19.0, 6.0, 13.0, 10.0, 18.0, 7.0, 10.0, 10.0, 9.0, 5.0, 12.0, 6.0, 14.0, 6.0, 10.0, 12.0, 19.0, 6.0, 7.0, 17.0, 5.0, 19.0, 14.0, 9.0, 18.0, 17.0, 10.0, 17.0, 8.0, 14.0, 13.0, 17.0, 10.0, 11.0, 17.0, 13.0, 15.0, 15.0, 15.0, 18.0, 12.0, 15.0, 11.0, 5.0, 16.0, 8.0, 17.0, 19.0, 15.0, 8.0, 10.0, 11.0, 6.0, 12.0, 14.0, 10.0, 8.0, 6.0, 14.0, 5.0, 10.0, 8.0, 13.0, 16.0, 19.0, 15.0, 20.0, 19.0, 14.0, 9.0, 12.0, 8.0, 20.0, 12.0, 16.0, 6.0, 7.0, 8.0, 9.0, 10.0, 9.0, 12.0, 11.0, 7.0, 6.0, 10.0, 6.0, 11.0, 5.0, 13.0, 6.0, 15.0, 11.0, 20.0, 9.0, 12.0]\n",
            "M2_data: [24.0, 13.0, 14.0, 21.0, 29.0, 27.0, 15.0, 23.0, 22.0, 14.0, 11.0, 7.0, 27.0, 6.0, 18.0, 18.0, 9.0, 21.0, 28.0, 24.0, 15.0, 8.0, 29.0, 18.0, 21.0, 25.0, 15.0, 7.0, 8.0, 22.0, 14.0, 27.0, 24.0, 30.0, 22.0, 13.0, 25.0, 6.0, 18.0, 27.0, 18.0, 8.0, 18.0, 19.0, 14.0, 27.0, 14.0, 12.0, 18.0, 10.0, 13.0, 15.0, 28.0, 7.0, 10.0, 10.0, 30.0, 27.0, 10.0, 19.0, 7.0, 13.0, 14.0, 18.0, 28.0, 25.0, 18.0, 25.0, 17.0, 23.0, 24.0, 11.0, 26.0, 19.0, 17.0, 15.0, 11.0, 18.0, 8.0, 21.0, 27.0, 25.0, 20.0, 17.0, 22.0, 8.0, 6.0, 27.0, 14.0, 22.0]\n"
          ]
        }
      ],
      "source": [
        "import random\n",
        "import numpy as np\n",
        "\n",
        "# Set a random seed for reproducibility\n",
        "# Setting random seed to 123 for consistent, deterministic generation of recovery times across groups.\n",
        "random.seed(123)  # You can use any integer as the seed\n",
        "\n",
        "# Create an empty list to store the recovery times\n",
        "M1_data = []\n",
        "\n",
        "# Generate 100 random recovery times\n",
        "# The underscore _ in the loop is a placeholder, signifying indifference to the counter value and solely focusing on executing the code block 100 times.\n",
        "for _ in range(100):\n",
        "    recovery_time = random.uniform(5.0, 20.0)  # Generating values between 5 and 20\n",
        "    M1_data.append(np.round(recovery_time,0)) # Rounding recovery time to whole numbers\n",
        "\n",
        "# Print the generated data\n",
        "print(\"M1_data:\",M1_data)\n",
        "\n",
        "# Create an empty list to store the recovery times\n",
        "M2_data = []\n",
        "\n",
        "# Generate 90 random recovery times\n",
        "for _ in range(90):\n",
        "    recovery_time = random.uniform(5.0, 30.0) # Generating values between 5 and 30\n",
        "    M2_data.append(np.round(recovery_time,0)) # Rounding recovery time to whole numbers\n",
        "\n",
        "# Print the generated data\n",
        "print(\"M2_data:\",M2_data)"
      ]
    },
    {
      "cell_type": "code",
      "source": [
        "# import a library to perform a Z-test\n",
        "from statsmodels.stats import weightstats as stests\n",
        "from scipy import stats\n"
      ],
      "metadata": {
        "id": "eSVpqpJKH4Y5"
      },
      "execution_count": 2,
      "outputs": []
    },
    {
      "cell_type": "code",
      "source": [
        "z_score, pval = stests.ztest(x1 = M1_data, x2 = M2_data, value = 0, alternative = 'two-sided')\n",
        "\n",
        "# print the test statistic and corresponding p-value\n",
        "print(\"Z-score: \", z_score)\n",
        "print(\"p-value: \", pval)"
      ],
      "metadata": {
        "colab": {
          "base_uri": "https://localhost:8080/"
        },
        "id": "ECJMKEA8IicI",
        "outputId": "7511a9b6-40b5-4358-9d21-5678306db526"
      },
      "execution_count": 3,
      "outputs": [
        {
          "output_type": "stream",
          "name": "stdout",
          "text": [
            "Z-score:  -7.68917478890992\n",
            "p-value:  1.4808703984296164e-14\n"
          ]
        }
      ]
    },
    {
      "cell_type": "code",
      "source": [
        "alpha = 0.01\n",
        "\n",
        "if pval < alpha:\n",
        "  print(\"Reject the null hypothesis, (i.e, The recovery time of two medicines are different)\")\n",
        "else:\n",
        "  print(\"Fail to reject the null hypothesis  (i.e, The recovery time of two medicines are same)\")"
      ],
      "metadata": {
        "colab": {
          "base_uri": "https://localhost:8080/"
        },
        "id": "ZNo67dcaKG4v",
        "outputId": "09837ef2-5109-408f-bc50-fcc2636627d2"
      },
      "execution_count": 4,
      "outputs": [
        {
          "output_type": "stream",
          "name": "stdout",
          "text": [
            "Reject the null hypothesis, (i.e, The recovery time of two medicines are different)\n"
          ]
        }
      ]
    },
    {
      "cell_type": "code",
      "source": [
        "import numpy as np\n",
        "from scipy import stats\n",
        "\n",
        "# Given data\n",
        "sample_mean_X = 30 # Average fuel efficiency for Group X (Engine X)\n",
        "sample_mean_Y = 32 # Average fuel efficiency for Group Y (Engine Y)\n",
        "sample_std_X = 3 # Standard deviation for Group X\n",
        "sample_std_Y = 2.5 # Standard deviation for Group Y\n",
        "significance_level = 0.05\n",
        "sample_size_X = 50 # Sample size for Group X\n",
        "sample_size_Y = 60 # Sample size for Group Y"
      ],
      "metadata": {
        "id": "JnssG2doKSo4"
      },
      "execution_count": 5,
      "outputs": []
    },
    {
      "cell_type": "code",
      "source": [
        "# Define the function to calculate the test statistic and corresponding p-value\n",
        "def TwoSampZTest(samp_mean_1, samp_mean_2, samp_std_1, samp_std_2, n1, n2):\n",
        "  # Calculate the test statistic\n",
        "  denominator = np.sqrt((samp_std_1**2 / n1) + (samp_std_2**2 / n2))\n",
        "  z_score = (samp_mean_1 - samp_mean_2) / denominator\n",
        "  return z_score\n",
        "\n",
        "\n",
        "# Calculate the z-score using the function\n",
        "z_score = TwoSampZTest(sample_mean_X, sample_mean_Y, sample_std_X, sample_std_Y, sample_size_X, sample_size_Y)\n"
      ],
      "metadata": {
        "id": "A-VuZPfUNMdQ"
      },
      "execution_count": 6,
      "outputs": []
    },
    {
      "cell_type": "code",
      "source": [
        "# Calculate the two-tailed p-value\n",
        "p_value = 2 * (1 - stats.norm.cdf(abs(z_score)))\n",
        "\n",
        "# Compare the p-value to the significance level\n",
        "if p_value < significance_level:\n",
        "  conclusion = \"Reject the null hypothesis. Engine Y is more fuel-efficient.\"\n",
        "else:\n",
        "  conclusion = \"Fail to reject the null hypothesis. No significant difference in fuel efficiency.\"\n",
        "\n",
        "print(f'z-score: {z_score:.4f}')\n",
        "print(f'p-value: {p_value:.4f}')\n",
        "print('Conclusion:', conclusion)\n"
      ],
      "metadata": {
        "colab": {
          "base_uri": "https://localhost:8080/"
        },
        "id": "alTlJBzJNWDd",
        "outputId": "fa9897d2-100d-40dd-c0cd-daf927dd68f7"
      },
      "execution_count": 7,
      "outputs": [
        {
          "output_type": "stream",
          "name": "stdout",
          "text": [
            "z-score: -3.7518\n",
            "p-value: 0.0002\n",
            "Conclusion: Reject the null hypothesis. Engine Y is more fuel-efficient.\n"
          ]
        }
      ]
    },
    {
      "cell_type": "code",
      "source": [
        "# Null Hypothesis (H0): The average heights of plants grown with fertilizers X and Y are equal (μ₁ = μ₂).\n",
        "# Alternative Hypothesis (Ha): The average heights of plants grown with fertilizers X and Y are different (μ₁ ≠ μ₂).\n",
        "\n",
        "from statsmodels.stats import weightstats as stests\n",
        "\n",
        "# Group A heights\n",
        "heights_a = [162, 164, 168, 170, 174, 176, 180, 182, 186, 188, 192, 194, 198, 200, 204, 206, 210, 212, 216, 218, 222, 224, 228, 230, 234, 236, 240, 242, 246, 248, 252, 254, 258, 260, 264, 266, 270]\n",
        "\n",
        "# Group B heights\n",
        "heights_b = [158, 162, 166, 170, 174, 178, 182, 186, 190, 194, 198, 202, 206, 210, 214, 218, 222, 226, 230, 234, 238, 242, 246, 250, 254, 258, 262, 266, 270, 274, 278, 282, 286, 290, 294, 298, 302]\n",
        "\n",
        "# Significance level\n",
        "alpha = 0.1\n",
        "\n",
        "# Perform the z-test\n",
        "z_stat, p_value = stests.ztest(heights_a, heights_b, value=0, alternative='two-sided')\n",
        "\n",
        "# Print the z-statistic and p-value\n",
        "print(\"z-statistic:\", z_stat)\n",
        "print(\"p-value:\", p_value)\n",
        "\n",
        "# Decision\n",
        "if p_value < alpha:\n",
        "    print(\"Reject the null hypothesis. There is a statistically significant difference in the average heights of plants grown with fertilizer X and Y.\")\n",
        "else:\n",
        "    print(\"Fail to reject the null hypothesis. There is no statistically significant difference in the average heights of plants grown with fertilizer X and Y.\")"
      ],
      "metadata": {
        "colab": {
          "base_uri": "https://localhost:8080/"
        },
        "id": "65nls5dFN7KQ",
        "outputId": "40bb50f8-b562-4b99-8118-350d48ec87b3"
      },
      "execution_count": 8,
      "outputs": [
        {
          "output_type": "stream",
          "name": "stdout",
          "text": [
            "z-statistic: -1.6280691715301856\n",
            "p-value: 0.10351021950900992\n",
            "Fail to reject the null hypothesis. There is no statistically significant difference in the average heights of plants grown with fertilizer X and Y.\n"
          ]
        }
      ]
    },
    {
      "cell_type": "code",
      "source": [
        "import numpy as np\n",
        "import scipy.stats as stats\n",
        "\n",
        "# Define the data\n",
        "# Number of satisfied customers\n",
        "satisfied_customers = 115\n",
        "# Total number of customers in the sample\n",
        "total_customers = 150\n",
        "\n",
        "# Specify the target satisfaction level (null hypothesis)\n",
        "target_satisfaction = 0.70  # 70%"
      ],
      "metadata": {
        "id": "J8ZuyxPgXT0R"
      },
      "execution_count": 9,
      "outputs": []
    },
    {
      "cell_type": "code",
      "source": [
        "# Define the hypotheses\n",
        "# Null Hypothesis (H0): The proportion of satisfied customers equals the target satisfaction level.\n",
        "# Alternative Hypothesis (Ha): The proportion of satisfied customers is not equal to the target satisfaction level.\n",
        "\n",
        "p = target_satisfaction # population proportion\n",
        "\n",
        "# Calculate the test statistic (Z)\n",
        "# p_hat = sample proportion = x/n\n",
        "p_hat = satisfied_customers / total_customers\n",
        "n = total_customers\n",
        "\n",
        "#formula\n",
        "Z = (p_hat - p) / np.sqrt((p * (1 - p)) / n)\n",
        "\n",
        "# Interpret the test statistic\n",
        "# Z follows a standard normal distribution. We will calculate the two-tailed p-value next.\n",
        "\n",
        "# Calculate the p-value\n",
        "p_value = 2 * (1 - stats.norm.cdf(np.abs(Z)))\n",
        "\n",
        "# In a two-tailed z-test, we care about the magnitude of deviation, not direction, from the null hypothesis.\n",
        "# Using np.abs(Z) removes the sign of the z-score, ensuring both positive and negative deviations contribute to the p-value calculation, making it more accurate for the two-tailed test.\n",
        "\n",
        "# Print the results\n",
        "print(f\"Z-statistic = {Z}\")\n",
        "print(f\"P-value = {p_value}\")"
      ],
      "metadata": {
        "colab": {
          "base_uri": "https://localhost:8080/"
        },
        "id": "Df11X_65QTcc",
        "outputId": "a00c5cf2-3c48-473a-bcea-34de1e4601e6"
      },
      "execution_count": 10,
      "outputs": [
        {
          "output_type": "stream",
          "name": "stdout",
          "text": [
            "Z-statistic = 1.7817416127494983\n",
            "P-value = 0.07479137758694376\n"
          ]
        }
      ]
    },
    {
      "cell_type": "code",
      "source": [
        "alpha = 0.05  # Significance level\n",
        "if p_value < alpha:\n",
        "    decision = \"Reject the null hypothesis\"\n",
        "else:\n",
        "    decision = \"Fail to reject the null hypothesis\"\n",
        "\n",
        "if decision == \"Reject the null hypothesis\":\n",
        "    conclusion = \"There is enough evidence to conclude that the proportion of satisfied customers with the new product is statistically different from the target satisfaction level.\"\n",
        "else:\n",
        "    conclusion = \"There is not enough evidence to conclude that the proportion of satisfied customers with the new product is statistically different from the target satisfaction level.\"\n",
        "\n",
        "# Print the results\n",
        "print(f\"Decision: {decision}\")\n",
        "print(f\"Conclusion: {conclusion}\")"
      ],
      "metadata": {
        "colab": {
          "base_uri": "https://localhost:8080/"
        },
        "id": "KSRHci-OXo04",
        "outputId": "35eb191f-c416-48f7-dfac-94d541d1287c"
      },
      "execution_count": 11,
      "outputs": [
        {
          "output_type": "stream",
          "name": "stdout",
          "text": [
            "Decision: Fail to reject the null hypothesis\n",
            "Conclusion: There is not enough evidence to conclude that the proportion of satisfied customers with the new product is statistically different from the target satisfaction level.\n"
          ]
        }
      ]
    },
    {
      "cell_type": "code",
      "source": [
        "import numpy as np\n",
        "from scipy.stats import norm\n",
        "\n",
        "# Null Hypothesis (H0): The proportion of customers dissatisfied with the new system is less than or equal to 30%.(p ≤ 0.30)\n",
        "# Alternative Hypothesis (H1): The proportion of customers dissatisfied with the new system is greater than 30%.(p > 0.30).\n",
        "\n",
        "n = 250 # Sample size\n",
        "x = 65 # Number of customers dissatisfied with the new system\n",
        "p_hat = x/n # Sample proportion\n",
        "p = 0.30 # Hypothesized proportion\n",
        "\n",
        "# Calculate test statistic value for one sample proportion test\n",
        "Z = (p_hat - p) / np.sqrt((p * (1 - p)) / n)\n",
        "print('Test statistic:',Z)\n",
        "\n",
        "# Calculate the p-value for the test statistic\n",
        "p_value = 1 - norm.cdf(Z)\n",
        "print('p-value:', p_value)\n",
        "\n",
        "# Define the significance level\n",
        "alpha = 0.05\n",
        "\n",
        "# Make a decision based on the p-value and significance level\n",
        "if p_value < alpha:\n",
        "  print('Reject the null hypothesis.')\n",
        "else:\n",
        "  print('Fail to reject the null hypothesis.')"
      ],
      "metadata": {
        "colab": {
          "base_uri": "https://localhost:8080/"
        },
        "id": "cj1rOvAkXzNo",
        "outputId": "f0755c53-007e-48ae-eca1-839fcd9a06b1"
      },
      "execution_count": 12,
      "outputs": [
        {
          "output_type": "stream",
          "name": "stdout",
          "text": [
            "Test statistic: -1.3801311186847078\n",
            "p-value: 0.9162268612556912\n",
            "Fail to reject the null hypothesis.\n"
          ]
        }
      ]
    },
    {
      "cell_type": "code",
      "source": [
        "import statsmodels.api as sm\n",
        "import numpy as np\n",
        "\n",
        "# Define the data\n",
        "conversions = np.array([50, 30])  # Number of conversions for Web Page A and Web Page B # x_1, x_2\n",
        "visits = np.array([1000, 500])  # Number of visits for Web Page A and Web Page B # n_1, n_2\n",
        "\n",
        "# Perform the Z-proportions test\n",
        "z_stat, p_value = sm.stats.proportions_ztest(conversions, visits, alternative='two-sided')\n",
        "\n",
        "# Print the results\n",
        "print(f\"Z-statistic = {z_stat}\")\n",
        "print(f\"P-value = {p_value}\")"
      ],
      "metadata": {
        "colab": {
          "base_uri": "https://localhost:8080/"
        },
        "id": "H0Trtn6HZm-D",
        "outputId": "f6dbf9c8-0f85-4a50-bdb2-0baeccc4a793"
      },
      "execution_count": 14,
      "outputs": [
        {
          "output_type": "stream",
          "name": "stdout",
          "text": [
            "Z-statistic = -0.8125338562826986\n",
            "P-value = 0.4164853677823287\n"
          ]
        }
      ]
    },
    {
      "cell_type": "code",
      "source": [
        "import numpy as np\n",
        "import scipy.stats as stats\n",
        "\n",
        "# Step 1: Define the data\n",
        "# Data for the old web page (Web Page A)\n",
        "n_1 = 1000 # visits_1\n",
        "x_1 = 50 # conversions_1\n",
        "\n",
        "# Data for the new web page (Web Page B)\n",
        "n_2 = 500 # visits_2\n",
        "x_2 = 30 # conversions_2\n",
        "\n",
        "# Step 2: Define the hypotheses\n",
        "# Null Hypothesis (H0): Conversion rates are the same.\n",
        "# Alternative Hypothesis (Ha): Conversion rates are different.\n",
        "# This is a two-tailed test.\n",
        "p_1_hat = x_1 / n_1\n",
        "p_2_hat = x_2 / n_2\n",
        "\n",
        "# p_hat: is the combined sample proportion for both web pages.\n",
        "p_hat = (x_1 + x_2) / (n_1 + n_2)\n",
        "\n",
        "# Step 3: Calculate the test statistic (Z)\n",
        "Z = (p_1_hat - p_2_hat) / np.sqrt(p_hat * (1 - p_hat) * ((1 / n_1) + (1 / n_2)))\n",
        "\n",
        "# Step 4: Interpret the test statistic\n",
        "# Z follows a standard normal distribution. We will calculate the two-tailed p-value next.\n",
        "\n",
        "# Step 5: Calculate the p-value\n",
        "p_value = 2 * (1 - stats.norm.cdf(np.abs(Z)))\n",
        "\n",
        "# Print the results\n",
        "print(f\"Z = {Z}\")\n",
        "print(f\"P-value = {p_value}\")\n"
      ],
      "metadata": {
        "colab": {
          "base_uri": "https://localhost:8080/"
        },
        "id": "IbD1GMw4ZtWC",
        "outputId": "c2831327-727c-41bb-e638-63b2db250ddd"
      },
      "execution_count": 15,
      "outputs": [
        {
          "output_type": "stream",
          "name": "stdout",
          "text": [
            "Z = -0.8125338562826986\n",
            "P-value = 0.4164853677823288\n"
          ]
        }
      ]
    },
    {
      "cell_type": "code",
      "source": [],
      "metadata": {
        "id": "FPastKxEcZTW"
      },
      "execution_count": null,
      "outputs": []
    }
  ]
}